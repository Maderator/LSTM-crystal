{
 "cells": [
  {
   "cell_type": "markdown",
   "metadata": {},
   "source": [
    "## This notebook is used to split data to training part and final testing part\n",
    "-To obtain the sequencesInputsOutputs.mat file, contact me at: `janmadera97+mff_thesis_data at gmail.com` preferably with the identifier after the `+` sign in the email address. I will ask the owner of the dataset for permission to share the data with you.\n",
    "\n",
    "### We split the GaAs simulation data"
   ]
  },
  {
   "cell_type": "code",
   "execution_count": 20,
   "metadata": {},
   "outputs": [],
   "source": [
    "import numpy as np\n",
    "import scipy.io\n",
    "import pickle\n",
    "\n",
    "raw_data = scipy.io.loadmat('../../data/sequencesinputsOutputs.mat')"
   ]
  },
  {
   "cell_type": "code",
   "execution_count": 2,
   "metadata": {},
   "outputs": [
    {
     "name": "stdout",
     "output_type": "stream",
     "text": [
      "(500, 100, 2)\n",
      "(500, 100, 6)\n"
     ]
    }
   ],
   "source": [
    "print(raw_data[\"InputsAll\"].shape)\n",
    "print(raw_data[\"OutputsAll\"].shape)"
   ]
  },
  {
   "cell_type": "markdown",
   "metadata": {},
   "source": [
    "### Train/FinalTest split"
   ]
  },
  {
   "cell_type": "code",
   "execution_count": 3,
   "metadata": {},
   "outputs": [],
   "source": [
    "# Sorted data\n",
    "trainingSortedData = {}\n",
    "trainingSortedData[\"Inputs\"] = raw_data[\"InputsAll\"][:450,:,:]\n",
    "trainingSortedData[\"Outputs\"] = raw_data[\"OutputsAll\"][:450,:,:]\n",
    "with open('../data/trainingSorted.pkl', 'wb') as f:\n",
    "    pickle.dump(trainingSortedData, f)\n",
    "\n",
    "finalTestingSortedData = {}\n",
    "finalTestingSortedData[\"Inputs\"] = raw_data[\"InputsAll\"][450:,:,:]\n",
    "finalTestingSortedData[\"Outputs\"] = raw_data[\"OutputsAll\"][450:,:,:]\n",
    "with open('../data/finalTestingSorted.pkl', 'wb') as f:\n",
    "    pickle.dump(finalTestingSortedData, f)\n",
    "\n",
    "# Shuffled data\n",
    "# Randomly permute data and then split it into training and final testing sets\n",
    "series_count = raw_data[\"InputsAll\"].shape[0]\n",
    "rng = np.random.default_rng()\n",
    "perm = rng.permutation(series_count)\n",
    "trainPerms = perm[:450]\n",
    "testPerms = perm[450:]\n",
    "\n",
    "trainingShuffledData = {}\n",
    "trainingShuffledData[\"Inputs\"] = raw_data[\"InputsAll\"][trainPerms,:,:]\n",
    "trainingShuffledData[\"Outputs\"] = raw_data[\"OutputsAll\"][trainPerms,:,:]\n",
    "with open('../data/trainingShuffled.pkl', 'wb') as f:\n",
    "    pickle.dump(trainingShuffledData, f)\n",
    "\n",
    "finalTestingShuffledData = {}\n",
    "finalTestingShuffledData[\"Inputs\"] = raw_data[\"InputsAll\"][testPerms,:,:]\n",
    "finalTestingShuffledData[\"Outputs\"] = raw_data[\"OutputsAll\"][testPerms,:,:]\n",
    "with open('../data/finalTestingShuffled.pkl', 'wb') as f:\n",
    "    pickle.dump(finalTestingShuffledData, f)\n"
   ]
  }
 ],
 "metadata": {
  "kernelspec": {
   "display_name": "venv",
   "language": "python",
   "name": "python3"
  },
  "language_info": {
   "codemirror_mode": {
    "name": "ipython",
    "version": 3
   },
   "file_extension": ".py",
   "mimetype": "text/x-python",
   "name": "python",
   "nbconvert_exporter": "python",
   "pygments_lexer": "ipython3",
   "version": "3.10.11"
  },
  "orig_nbformat": 4
 },
 "nbformat": 4,
 "nbformat_minor": 2
}
